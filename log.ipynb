{
 "cells": [
  {
   "cell_type": "code",
   "execution_count": 1,
   "id": "ce2430fb",
   "metadata": {},
   "outputs": [
    {
     "data": {
      "text/plain": [
       "'Отчет по intro. Логирование урока.'"
      ]
     },
     "execution_count": 1,
     "metadata": {},
     "output_type": "execute_result"
    }
   ],
   "source": [
    "\"\"\"Отчет по intro. Логирование урока.\"\"\""
   ]
  },
  {
   "cell_type": "markdown",
   "id": "fa002501",
   "metadata": {},
   "source": [
    "#### 31.07.2025\n",
    "Изучение курса: Курс Python-разработчик с Нуля до Open Source:Линтеры.Git.Github\n",
    "1. 2.1 Исходный код cpython и знакомство с github\n",
    "2. 2.2 Скачиваем релиз\n",
    "3. 3.1 Установка ПО\n",
    "4. 3.2 Приглашение в организацию\n",
    "5. 3.3 Устанавливаем cpython из исходников\n",
    "6. 4.1 Устанавливаем pip и прописываем переменные среды\n",
    "7. 5.1 Учимся запускать файлы с помощью pypy и cpython\n",
    "8. 5.2 Устанавливаем python c официального сайта\n",
    "9. 6.1 Клонирование репозитория и начало работы\n",
    "10. 7.1 Настраиваем конфигурационный файл линтеров"
   ]
  },
  {
   "cell_type": "markdown",
   "id": "66e615a1",
   "metadata": {},
   "source": [
    "#### 30.07.2025\n",
    "\n",
    "1. Скачал репозиторий (Documents/github/Data-Science-For-Beginners-from-scratch-SENATOROV) к себе на ПК\n",
    "2. Сделал инициализацию гита + 4 команды, указанные в п.6 руководства\n",
    "3. Ознакомился с основными преимуществами и лучшими практиками для : Pylint, Pydocstyle, Flake8, Mypy . \n",
    "4. Создал конспект\n",
    "5. Посмотрел видео по процессу принятия и отправки коммитов и работе с линтером"
   ]
  }
 ],
 "metadata": {
  "kernelspec": {
   "display_name": "base",
   "language": "python",
   "name": "python3"
  },
  "language_info": {
   "codemirror_mode": {
    "name": "ipython",
    "version": 3
   },
   "file_extension": ".py",
   "mimetype": "text/x-python",
   "name": "python",
   "nbconvert_exporter": "python",
   "pygments_lexer": "ipython3",
   "version": "3.13.5"
  }
 },
 "nbformat": 4,
 "nbformat_minor": 5
}
