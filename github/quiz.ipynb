{
 "cells": [
  {
   "cell_type": "markdown",
   "id": "66a7c016",
   "metadata": {},
   "source": [
    "\"\"\"[TASK] Контрибьютинг в Open Source  #8\n",
    "\"\"\"\n"
   ]
  },
  {
   "cell_type": "markdown",
   "id": "4a072feb",
   "metadata": {},
   "source": [
    "GitHub\n",
    "1.1. Что такое GitHub?\n",
    "1.2. Как GitHub связан с Git?\n",
    "1.3. Чем отличается fork репозитория от его клонирования (clone)?\n",
    "1.4. Зачем нужны и как работают pull requests?\n",
    "1.5. GitHub использует ваш почтовый адрес для привязки ваших Git коммитов к вашей учётной записи?\n",
    "1.6 Какая команда генерирует SSH ключ для Доступа по SSH к репозиторию (Рисунок 83)"
   ]
  },
  {
   "cell_type": "markdown",
   "id": "7430a673",
   "metadata": {},
   "source": []
  }
 ],
 "metadata": {
  "language_info": {
   "name": "python"
  }
 },
 "nbformat": 4,
 "nbformat_minor": 5
}
